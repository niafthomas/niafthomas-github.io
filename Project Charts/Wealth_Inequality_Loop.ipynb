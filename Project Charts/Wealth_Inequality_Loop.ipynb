{
  "nbformat": 4,
  "nbformat_minor": 0,
  "metadata": {
    "colab": {
      "name": "Wealth Inequality Loop.ipynb",
      "provenance": [],
      "authorship_tag": "ABX9TyM7+JcoqCYtMwPetx1R+ZlQ",
      "include_colab_link": true
    },
    "kernelspec": {
      "name": "python3",
      "display_name": "Python 3"
    },
    "language_info": {
      "name": "python"
    }
  },
  "cells": [
    {
      "cell_type": "markdown",
      "metadata": {
        "id": "view-in-github",
        "colab_type": "text"
      },
      "source": [
        "<a href=\"https://colab.research.google.com/github/niafthomas/niafthomas.github.io/blob/main/Wealth_Inequality_Loop.ipynb\" target=\"_parent\"><img src=\"https://colab.research.google.com/assets/colab-badge.svg\" alt=\"Open In Colab\"/></a>"
      ]
    },
    {
      "cell_type": "code",
      "execution_count": 1,
      "metadata": {
        "id": "7psVmX6SiQWt"
      },
      "outputs": [],
      "source": [
        "# /// Import tools that we will need:\n",
        "\n",
        "import requests\n",
        "import os\n",
        "import json\n",
        "from google.colab import files"
      ]
    },
    {
      "cell_type": "code",
      "source": [
        "# Data to download from Federal Reserve Economic Data (FRED):\n",
        "# 1) Share of Total Net Worth Held by the Top 1%  (WFRBST01134)\n",
        "# 2) Share of Total Net Worth Held by the Bottom 50% (WFRBSB50215)\n",
        "\n",
        "# unique API key: b2abc44b6fb81c0623d89b7bba0ae907\n",
        "url_base = \"https://api.stlouisfed.org/fred/series/observations?series_id={}&api_key=b2abc44b6fb81c0623d89b7bba0ae907&file_type=json\"\n",
        "\n",
        "# File base name:\n",
        "file_base = \"data-Fred-{}.json\"\n",
        "\n",
        "## Series:\n",
        "fredSeries = ['WFRBST01134','WFRBSB50215']\n",
        "\n",
        "## Print URLs in a loop\n",
        "for i in fredSeries:\n",
        "  print(i)\n",
        "\n",
        "  # Build URL for iteration of the loop\n",
        "  URL = url_base.format(i)\n",
        "  print(URL)\n",
        "\n",
        "  #Request the html from the URL\n",
        "  data = requests.get(URL).json()\n",
        "  print(data)\n",
        "\n",
        "  #Set the filename\n",
        "  fileName = file_base.format(i)\n",
        "  print(fileName)\n",
        "\n",
        "  #Save the file\n",
        "  with open(fileName, 'w', encoding='utf-8') as f:\n",
        "     json.dump(data, f, ensure_ascii=False, indent=4)\n",
        "  \n",
        "  #Download the file to local machine\n",
        "  files.download(fileName)"
      ],
      "metadata": {
        "colab": {
          "base_uri": "https://localhost:8080/",
          "height": 176
        },
        "id": "JUT-rhAyj-A0",
        "outputId": "d3f41426-4756-48a7-befe-c664cc7953fc"
      },
      "execution_count": 2,
      "outputs": [
        {
          "output_type": "stream",
          "name": "stdout",
          "text": [
            "WFRBST01134\n",
            "https://api.stlouisfed.org/fred/series/observations?series_id=WFRBST01134&api_key=b2abc44b6fb81c0623d89b7bba0ae907&file_type=json\n",
            "{'realtime_start': '2022-01-07', 'realtime_end': '2022-01-07', 'observation_start': '1600-01-01', 'observation_end': '9999-12-31', 'units': 'lin', 'output_type': 1, 'file_type': 'json', 'order_by': 'observation_date', 'sort_order': 'asc', 'count': 129, 'offset': 0, 'limit': 100000, 'observations': [{'realtime_start': '2022-01-07', 'realtime_end': '2022-01-07', 'date': '1989-07-01', 'value': '23.6'}, {'realtime_start': '2022-01-07', 'realtime_end': '2022-01-07', 'date': '1989-10-01', 'value': '23.6'}, {'realtime_start': '2022-01-07', 'realtime_end': '2022-01-07', 'date': '1990-01-01', 'value': '23.5'}, {'realtime_start': '2022-01-07', 'realtime_end': '2022-01-07', 'date': '1990-04-01', 'value': '23.7'}, {'realtime_start': '2022-01-07', 'realtime_end': '2022-01-07', 'date': '1990-07-01', 'value': '23.2'}, {'realtime_start': '2022-01-07', 'realtime_end': '2022-01-07', 'date': '1990-10-01', 'value': '23.5'}, {'realtime_start': '2022-01-07', 'realtime_end': '2022-01-07', 'date': '1991-01-01', 'value': '23.8'}, {'realtime_start': '2022-01-07', 'realtime_end': '2022-01-07', 'date': '1991-04-01', 'value': '23.8'}, {'realtime_start': '2022-01-07', 'realtime_end': '2022-01-07', 'date': '1991-07-01', 'value': '23.9'}, {'realtime_start': '2022-01-07', 'realtime_end': '2022-01-07', 'date': '1991-10-01', 'value': '24.4'}, {'realtime_start': '2022-01-07', 'realtime_end': '2022-01-07', 'date': '1992-01-01', 'value': '24.2'}, {'realtime_start': '2022-01-07', 'realtime_end': '2022-01-07', 'date': '1992-04-01', 'value': '24.2'}, {'realtime_start': '2022-01-07', 'realtime_end': '2022-01-07', 'date': '1992-07-01', 'value': '24.1'}, {'realtime_start': '2022-01-07', 'realtime_end': '2022-01-07', 'date': '1992-10-01', 'value': '24.6'}, {'realtime_start': '2022-01-07', 'realtime_end': '2022-01-07', 'date': '1993-01-01', 'value': '25.2'}, {'realtime_start': '2022-01-07', 'realtime_end': '2022-01-07', 'date': '1993-04-01', 'value': '25.4'}, {'realtime_start': '2022-01-07', 'realtime_end': '2022-01-07', 'date': '1993-07-01', 'value': '25.7'}, {'realtime_start': '2022-01-07', 'realtime_end': '2022-01-07', 'date': '1993-10-01', 'value': '26.1'}, {'realtime_start': '2022-01-07', 'realtime_end': '2022-01-07', 'date': '1994-01-01', 'value': '26.4'}, {'realtime_start': '2022-01-07', 'realtime_end': '2022-01-07', 'date': '1994-04-01', 'value': '26.7'}, {'realtime_start': '2022-01-07', 'realtime_end': '2022-01-07', 'date': '1994-07-01', 'value': '26.9'}, {'realtime_start': '2022-01-07', 'realtime_end': '2022-01-07', 'date': '1994-10-01', 'value': '27.4'}, {'realtime_start': '2022-01-07', 'realtime_end': '2022-01-07', 'date': '1995-01-01', 'value': '27.9'}, {'realtime_start': '2022-01-07', 'realtime_end': '2022-01-07', 'date': '1995-04-01', 'value': '28.0'}, {'realtime_start': '2022-01-07', 'realtime_end': '2022-01-07', 'date': '1995-07-01', 'value': '28.3'}, {'realtime_start': '2022-01-07', 'realtime_end': '2022-01-07', 'date': '1995-10-01', 'value': '28.5'}, {'realtime_start': '2022-01-07', 'realtime_end': '2022-01-07', 'date': '1996-01-01', 'value': '28.4'}, {'realtime_start': '2022-01-07', 'realtime_end': '2022-01-07', 'date': '1996-04-01', 'value': '28.3'}, {'realtime_start': '2022-01-07', 'realtime_end': '2022-01-07', 'date': '1996-07-01', 'value': '28.2'}, {'realtime_start': '2022-01-07', 'realtime_end': '2022-01-07', 'date': '1996-10-01', 'value': '28.4'}, {'realtime_start': '2022-01-07', 'realtime_end': '2022-01-07', 'date': '1997-01-01', 'value': '28.0'}, {'realtime_start': '2022-01-07', 'realtime_end': '2022-01-07', 'date': '1997-04-01', 'value': '28.3'}, {'realtime_start': '2022-01-07', 'realtime_end': '2022-01-07', 'date': '1997-07-01', 'value': '28.4'}, {'realtime_start': '2022-01-07', 'realtime_end': '2022-01-07', 'date': '1997-10-01', 'value': '28.3'}, {'realtime_start': '2022-01-07', 'realtime_end': '2022-01-07', 'date': '1998-01-01', 'value': '28.6'}, {'realtime_start': '2022-01-07', 'realtime_end': '2022-01-07', 'date': '1998-04-01', 'value': '28.6'}, {'realtime_start': '2022-01-07', 'realtime_end': '2022-01-07', 'date': '1998-07-01', 'value': '27.9'}, {'realtime_start': '2022-01-07', 'realtime_end': '2022-01-07', 'date': '1998-10-01', 'value': '28.1'}, {'realtime_start': '2022-01-07', 'realtime_end': '2022-01-07', 'date': '1999-01-01', 'value': '27.9'}, {'realtime_start': '2022-01-07', 'realtime_end': '2022-01-07', 'date': '1999-04-01', 'value': '28.1'}, {'realtime_start': '2022-01-07', 'realtime_end': '2022-01-07', 'date': '1999-07-01', 'value': '27.8'}, {'realtime_start': '2022-01-07', 'realtime_end': '2022-01-07', 'date': '1999-10-01', 'value': '28.3'}, {'realtime_start': '2022-01-07', 'realtime_end': '2022-01-07', 'date': '2000-01-01', 'value': '28.6'}, {'realtime_start': '2022-01-07', 'realtime_end': '2022-01-07', 'date': '2000-04-01', 'value': '28.1'}, {'realtime_start': '2022-01-07', 'realtime_end': '2022-01-07', 'date': '2000-07-01', 'value': '27.8'}, {'realtime_start': '2022-01-07', 'realtime_end': '2022-01-07', 'date': '2000-10-01', 'value': '27.2'}, {'realtime_start': '2022-01-07', 'realtime_end': '2022-01-07', 'date': '2001-01-01', 'value': '26.6'}, {'realtime_start': '2022-01-07', 'realtime_end': '2022-01-07', 'date': '2001-04-01', 'value': '26.6'}, {'realtime_start': '2022-01-07', 'realtime_end': '2022-01-07', 'date': '2001-07-01', 'value': '25.9'}, {'realtime_start': '2022-01-07', 'realtime_end': '2022-01-07', 'date': '2001-10-01', 'value': '26.0'}, {'realtime_start': '2022-01-07', 'realtime_end': '2022-01-07', 'date': '2002-01-01', 'value': '26.1'}, {'realtime_start': '2022-01-07', 'realtime_end': '2022-01-07', 'date': '2002-04-01', 'value': '26.1'}, {'realtime_start': '2022-01-07', 'realtime_end': '2022-01-07', 'date': '2002-07-01', 'value': '25.4'}, {'realtime_start': '2022-01-07', 'realtime_end': '2022-01-07', 'date': '2002-10-01', 'value': '25.1'}, {'realtime_start': '2022-01-07', 'realtime_end': '2022-01-07', 'date': '2003-01-01', 'value': '25.0'}, {'realtime_start': '2022-01-07', 'realtime_end': '2022-01-07', 'date': '2003-04-01', 'value': '25.8'}, {'realtime_start': '2022-01-07', 'realtime_end': '2022-01-07', 'date': '2003-07-01', 'value': '26.1'}, {'realtime_start': '2022-01-07', 'realtime_end': '2022-01-07', 'date': '2003-10-01', 'value': '26.5'}, {'realtime_start': '2022-01-07', 'realtime_end': '2022-01-07', 'date': '2004-01-01', 'value': '27.2'}, {'realtime_start': '2022-01-07', 'realtime_end': '2022-01-07', 'date': '2004-04-01', 'value': '27.1'}, {'realtime_start': '2022-01-07', 'realtime_end': '2022-01-07', 'date': '2004-07-01', 'value': '27.4'}, {'realtime_start': '2022-01-07', 'realtime_end': '2022-01-07', 'date': '2004-10-01', 'value': '27.6'}, {'realtime_start': '2022-01-07', 'realtime_end': '2022-01-07', 'date': '2005-01-01', 'value': '27.7'}, {'realtime_start': '2022-01-07', 'realtime_end': '2022-01-07', 'date': '2005-04-01', 'value': '28.0'}, {'realtime_start': '2022-01-07', 'realtime_end': '2022-01-07', 'date': '2005-07-01', 'value': '28.1'}, {'realtime_start': '2022-01-07', 'realtime_end': '2022-01-07', 'date': '2005-10-01', 'value': '28.1'}, {'realtime_start': '2022-01-07', 'realtime_end': '2022-01-07', 'date': '2006-01-01', 'value': '28.8'}, {'realtime_start': '2022-01-07', 'realtime_end': '2022-01-07', 'date': '2006-04-01', 'value': '28.7'}, {'realtime_start': '2022-01-07', 'realtime_end': '2022-01-07', 'date': '2006-07-01', 'value': '28.8'}, {'realtime_start': '2022-01-07', 'realtime_end': '2022-01-07', 'date': '2006-10-01', 'value': '29.0'}, {'realtime_start': '2022-01-07', 'realtime_end': '2022-01-07', 'date': '2007-01-01', 'value': '29.3'}, {'realtime_start': '2022-01-07', 'realtime_end': '2022-01-07', 'date': '2007-04-01', 'value': '29.4'}, {'realtime_start': '2022-01-07', 'realtime_end': '2022-01-07', 'date': '2007-07-01', 'value': '29.5'}, {'realtime_start': '2022-01-07', 'realtime_end': '2022-01-07', 'date': '2007-10-01', 'value': '29.2'}, {'realtime_start': '2022-01-07', 'realtime_end': '2022-01-07', 'date': '2008-01-01', 'value': '29.1'}, {'realtime_start': '2022-01-07', 'realtime_end': '2022-01-07', 'date': '2008-04-01', 'value': '28.9'}, {'realtime_start': '2022-01-07', 'realtime_end': '2022-01-07', 'date': '2008-07-01', 'value': '28.6'}, {'realtime_start': '2022-01-07', 'realtime_end': '2022-01-07', 'date': '2008-10-01', 'value': '27.2'}, {'realtime_start': '2022-01-07', 'realtime_end': '2022-01-07', 'date': '2009-01-01', 'value': '26.9'}, {'realtime_start': '2022-01-07', 'realtime_end': '2022-01-07', 'date': '2009-04-01', 'value': '27.2'}, {'realtime_start': '2022-01-07', 'realtime_end': '2022-01-07', 'date': '2009-07-01', 'value': '28.1'}, {'realtime_start': '2022-01-07', 'realtime_end': '2022-01-07', 'date': '2009-10-01', 'value': '27.5'}, {'realtime_start': '2022-01-07', 'realtime_end': '2022-01-07', 'date': '2010-01-01', 'value': '28.2'}, {'realtime_start': '2022-01-07', 'realtime_end': '2022-01-07', 'date': '2010-04-01', 'value': '28.1'}, {'realtime_start': '2022-01-07', 'realtime_end': '2022-01-07', 'date': '2010-07-01', 'value': '28.4'}, {'realtime_start': '2022-01-07', 'realtime_end': '2022-01-07', 'date': '2010-10-01', 'value': '28.4'}, {'realtime_start': '2022-01-07', 'realtime_end': '2022-01-07', 'date': '2011-01-01', 'value': '29.1'}, {'realtime_start': '2022-01-07', 'realtime_end': '2022-01-07', 'date': '2011-04-01', 'value': '29.3'}, {'realtime_start': '2022-01-07', 'realtime_end': '2022-01-07', 'date': '2011-07-01', 'value': '29.0'}, {'realtime_start': '2022-01-07', 'realtime_end': '2022-01-07', 'date': '2011-10-01', 'value': '28.8'}, {'realtime_start': '2022-01-07', 'realtime_end': '2022-01-07', 'date': '2012-01-01', 'value': '29.4'}, {'realtime_start': '2022-01-07', 'realtime_end': '2022-01-07', 'date': '2012-04-01', 'value': '29.5'}, {'realtime_start': '2022-01-07', 'realtime_end': '2022-01-07', 'date': '2012-07-01', 'value': '29.6'}, {'realtime_start': '2022-01-07', 'realtime_end': '2022-01-07', 'date': '2012-10-01', 'value': '29.7'}, {'realtime_start': '2022-01-07', 'realtime_end': '2022-01-07', 'date': '2013-01-01', 'value': '30.0'}, {'realtime_start': '2022-01-07', 'realtime_end': '2022-01-07', 'date': '2013-04-01', 'value': '30.0'}, {'realtime_start': '2022-01-07', 'realtime_end': '2022-01-07', 'date': '2013-07-01', 'value': '29.9'}, {'realtime_start': '2022-01-07', 'realtime_end': '2022-01-07', 'date': '2013-10-01', 'value': '29.9'}, {'realtime_start': '2022-01-07', 'realtime_end': '2022-01-07', 'date': '2014-01-01', 'value': '30.4'}, {'realtime_start': '2022-01-07', 'realtime_end': '2022-01-07', 'date': '2014-04-01', 'value': '30.6'}, {'realtime_start': '2022-01-07', 'realtime_end': '2022-01-07', 'date': '2014-07-01', 'value': '30.6'}, {'realtime_start': '2022-01-07', 'realtime_end': '2022-01-07', 'date': '2014-10-01', 'value': '30.7'}, {'realtime_start': '2022-01-07', 'realtime_end': '2022-01-07', 'date': '2015-01-01', 'value': '31.0'}, {'realtime_start': '2022-01-07', 'realtime_end': '2022-01-07', 'date': '2015-04-01', 'value': '31.1'}, {'realtime_start': '2022-01-07', 'realtime_end': '2022-01-07', 'date': '2015-07-01', 'value': '30.9'}, {'realtime_start': '2022-01-07', 'realtime_end': '2022-01-07', 'date': '2015-10-01', 'value': '30.8'}, {'realtime_start': '2022-01-07', 'realtime_end': '2022-01-07', 'date': '2016-01-01', 'value': '31.0'}, {'realtime_start': '2022-01-07', 'realtime_end': '2022-01-07', 'date': '2016-04-01', 'value': '31.2'}, {'realtime_start': '2022-01-07', 'realtime_end': '2022-01-07', 'date': '2016-07-01', 'value': '31.1'}, {'realtime_start': '2022-01-07', 'realtime_end': '2022-01-07', 'date': '2016-10-01', 'value': '30.8'}, {'realtime_start': '2022-01-07', 'realtime_end': '2022-01-07', 'date': '2017-01-01', 'value': '31.0'}, {'realtime_start': '2022-01-07', 'realtime_end': '2022-01-07', 'date': '2017-04-01', 'value': '31.0'}, {'realtime_start': '2022-01-07', 'realtime_end': '2022-01-07', 'date': '2017-07-01', 'value': '30.9'}, {'realtime_start': '2022-01-07', 'realtime_end': '2022-01-07', 'date': '2017-10-01', 'value': '31.0'}, {'realtime_start': '2022-01-07', 'realtime_end': '2022-01-07', 'date': '2018-01-01', 'value': '31.0'}, {'realtime_start': '2022-01-07', 'realtime_end': '2022-01-07', 'date': '2018-04-01', 'value': '30.9'}, {'realtime_start': '2022-01-07', 'realtime_end': '2022-01-07', 'date': '2018-07-01', 'value': '31.0'}, {'realtime_start': '2022-01-07', 'realtime_end': '2022-01-07', 'date': '2018-10-01', 'value': '30.3'}, {'realtime_start': '2022-01-07', 'realtime_end': '2022-01-07', 'date': '2019-01-01', 'value': '30.7'}, {'realtime_start': '2022-01-07', 'realtime_end': '2022-01-07', 'date': '2019-04-01', 'value': '30.7'}, {'realtime_start': '2022-01-07', 'realtime_end': '2022-01-07', 'date': '2019-07-01', 'value': '30.5'}, {'realtime_start': '2022-01-07', 'realtime_end': '2022-01-07', 'date': '2019-10-01', 'value': '30.8'}, {'realtime_start': '2022-01-07', 'realtime_end': '2022-01-07', 'date': '2020-01-01', 'value': '29.7'}, {'realtime_start': '2022-01-07', 'realtime_end': '2022-01-07', 'date': '2020-04-01', 'value': '30.4'}, {'realtime_start': '2022-01-07', 'realtime_end': '2022-01-07', 'date': '2020-07-01', 'value': '30.8'}, {'realtime_start': '2022-01-07', 'realtime_end': '2022-01-07', 'date': '2020-10-01', 'value': '31.5'}, {'realtime_start': '2022-01-07', 'realtime_end': '2022-01-07', 'date': '2021-01-01', 'value': '31.9'}, {'realtime_start': '2022-01-07', 'realtime_end': '2022-01-07', 'date': '2021-04-01', 'value': '32.2'}, {'realtime_start': '2022-01-07', 'realtime_end': '2022-01-07', 'date': '2021-07-01', 'value': '32.1'}]}\n",
            "data-Fred-WFRBST01134.json\n"
          ]
        },
        {
          "output_type": "display_data",
          "data": {
            "application/javascript": [
              "\n",
              "    async function download(id, filename, size) {\n",
              "      if (!google.colab.kernel.accessAllowed) {\n",
              "        return;\n",
              "      }\n",
              "      const div = document.createElement('div');\n",
              "      const label = document.createElement('label');\n",
              "      label.textContent = `Downloading \"${filename}\": `;\n",
              "      div.appendChild(label);\n",
              "      const progress = document.createElement('progress');\n",
              "      progress.max = size;\n",
              "      div.appendChild(progress);\n",
              "      document.body.appendChild(div);\n",
              "\n",
              "      const buffers = [];\n",
              "      let downloaded = 0;\n",
              "\n",
              "      const channel = await google.colab.kernel.comms.open(id);\n",
              "      // Send a message to notify the kernel that we're ready.\n",
              "      channel.send({})\n",
              "\n",
              "      for await (const message of channel.messages) {\n",
              "        // Send a message to notify the kernel that we're ready.\n",
              "        channel.send({})\n",
              "        if (message.buffers) {\n",
              "          for (const buffer of message.buffers) {\n",
              "            buffers.push(buffer);\n",
              "            downloaded += buffer.byteLength;\n",
              "            progress.value = downloaded;\n",
              "          }\n",
              "        }\n",
              "      }\n",
              "      const blob = new Blob(buffers, {type: 'application/binary'});\n",
              "      const a = document.createElement('a');\n",
              "      a.href = window.URL.createObjectURL(blob);\n",
              "      a.download = filename;\n",
              "      div.appendChild(a);\n",
              "      a.click();\n",
              "      div.remove();\n",
              "    }\n",
              "  "
            ],
            "text/plain": [
              "<IPython.core.display.Javascript object>"
            ]
          },
          "metadata": {}
        },
        {
          "output_type": "display_data",
          "data": {
            "application/javascript": [
              "download(\"download_fcfdef23-c27e-4b74-862d-d1fffa437dc8\", \"data-Fred-WFRBST01134.json\", 22161)"
            ],
            "text/plain": [
              "<IPython.core.display.Javascript object>"
            ]
          },
          "metadata": {}
        },
        {
          "output_type": "stream",
          "name": "stdout",
          "text": [
            "WFRBSB50215\n",
            "https://api.stlouisfed.org/fred/series/observations?series_id=WFRBSB50215&api_key=b2abc44b6fb81c0623d89b7bba0ae907&file_type=json\n",
            "{'realtime_start': '2022-01-07', 'realtime_end': '2022-01-07', 'observation_start': '1600-01-01', 'observation_end': '9999-12-31', 'units': 'lin', 'output_type': 1, 'file_type': 'json', 'order_by': 'observation_date', 'sort_order': 'asc', 'count': 129, 'offset': 0, 'limit': 100000, 'observations': [{'realtime_start': '2022-01-07', 'realtime_end': '2022-01-07', 'date': '1989-07-01', 'value': '3.7'}, {'realtime_start': '2022-01-07', 'realtime_end': '2022-01-07', 'date': '1989-10-01', 'value': '3.5'}, {'realtime_start': '2022-01-07', 'realtime_end': '2022-01-07', 'date': '1990-01-01', 'value': '3.7'}, {'realtime_start': '2022-01-07', 'realtime_end': '2022-01-07', 'date': '1990-04-01', 'value': '3.5'}, {'realtime_start': '2022-01-07', 'realtime_end': '2022-01-07', 'date': '1990-07-01', 'value': '3.7'}, {'realtime_start': '2022-01-07', 'realtime_end': '2022-01-07', 'date': '1990-10-01', 'value': '3.6'}, {'realtime_start': '2022-01-07', 'realtime_end': '2022-01-07', 'date': '1991-01-01', 'value': '3.7'}, {'realtime_start': '2022-01-07', 'realtime_end': '2022-01-07', 'date': '1991-04-01', 'value': '3.8'}, {'realtime_start': '2022-01-07', 'realtime_end': '2022-01-07', 'date': '1991-07-01', 'value': '4.0'}, {'realtime_start': '2022-01-07', 'realtime_end': '2022-01-07', 'date': '1991-10-01', 'value': '4.0'}, {'realtime_start': '2022-01-07', 'realtime_end': '2022-01-07', 'date': '1992-01-01', 'value': '4.0'}, {'realtime_start': '2022-01-07', 'realtime_end': '2022-01-07', 'date': '1992-04-01', 'value': '4.0'}, {'realtime_start': '2022-01-07', 'realtime_end': '2022-01-07', 'date': '1992-07-01', 'value': '4.3'}, {'realtime_start': '2022-01-07', 'realtime_end': '2022-01-07', 'date': '1992-10-01', 'value': '4.1'}, {'realtime_start': '2022-01-07', 'realtime_end': '2022-01-07', 'date': '1993-01-01', 'value': '3.8'}, {'realtime_start': '2022-01-07', 'realtime_end': '2022-01-07', 'date': '1993-04-01', 'value': '3.9'}, {'realtime_start': '2022-01-07', 'realtime_end': '2022-01-07', 'date': '1993-07-01', 'value': '3.9'}, {'realtime_start': '2022-01-07', 'realtime_end': '2022-01-07', 'date': '1993-10-01', 'value': '3.8'}, {'realtime_start': '2022-01-07', 'realtime_end': '2022-01-07', 'date': '1994-01-01', 'value': '3.6'}, {'realtime_start': '2022-01-07', 'realtime_end': '2022-01-07', 'date': '1994-04-01', 'value': '3.6'}, {'realtime_start': '2022-01-07', 'realtime_end': '2022-01-07', 'date': '1994-07-01', 'value': '3.6'}, {'realtime_start': '2022-01-07', 'realtime_end': '2022-01-07', 'date': '1994-10-01', 'value': '3.4'}, {'realtime_start': '2022-01-07', 'realtime_end': '2022-01-07', 'date': '1995-01-01', 'value': '3.5'}, {'realtime_start': '2022-01-07', 'realtime_end': '2022-01-07', 'date': '1995-04-01', 'value': '3.7'}, {'realtime_start': '2022-01-07', 'realtime_end': '2022-01-07', 'date': '1995-07-01', 'value': '3.8'}, {'realtime_start': '2022-01-07', 'realtime_end': '2022-01-07', 'date': '1995-10-01', 'value': '3.7'}, {'realtime_start': '2022-01-07', 'realtime_end': '2022-01-07', 'date': '1996-01-01', 'value': '3.7'}, {'realtime_start': '2022-01-07', 'realtime_end': '2022-01-07', 'date': '1996-04-01', 'value': '3.6'}, {'realtime_start': '2022-01-07', 'realtime_end': '2022-01-07', 'date': '1996-07-01', 'value': '3.6'}, {'realtime_start': '2022-01-07', 'realtime_end': '2022-01-07', 'date': '1996-10-01', 'value': '3.4'}, {'realtime_start': '2022-01-07', 'realtime_end': '2022-01-07', 'date': '1997-01-01', 'value': '3.5'}, {'realtime_start': '2022-01-07', 'realtime_end': '2022-01-07', 'date': '1997-04-01', 'value': '3.5'}, {'realtime_start': '2022-01-07', 'realtime_end': '2022-01-07', 'date': '1997-07-01', 'value': '3.5'}, {'realtime_start': '2022-01-07', 'realtime_end': '2022-01-07', 'date': '1997-10-01', 'value': '3.4'}, {'realtime_start': '2022-01-07', 'realtime_end': '2022-01-07', 'date': '1998-01-01', 'value': '3.5'}, {'realtime_start': '2022-01-07', 'realtime_end': '2022-01-07', 'date': '1998-04-01', 'value': '3.4'}, {'realtime_start': '2022-01-07', 'realtime_end': '2022-01-07', 'date': '1998-07-01', 'value': '3.6'}, {'realtime_start': '2022-01-07', 'realtime_end': '2022-01-07', 'date': '1998-10-01', 'value': '3.4'}, {'realtime_start': '2022-01-07', 'realtime_end': '2022-01-07', 'date': '1999-01-01', 'value': '3.5'}, {'realtime_start': '2022-01-07', 'realtime_end': '2022-01-07', 'date': '1999-04-01', 'value': '3.3'}, {'realtime_start': '2022-01-07', 'realtime_end': '2022-01-07', 'date': '1999-07-01', 'value': '3.4'}, {'realtime_start': '2022-01-07', 'realtime_end': '2022-01-07', 'date': '1999-10-01', 'value': '3.3'}, {'realtime_start': '2022-01-07', 'realtime_end': '2022-01-07', 'date': '2000-01-01', 'value': '3.3'}, {'realtime_start': '2022-01-07', 'realtime_end': '2022-01-07', 'date': '2000-04-01', 'value': '3.3'}, {'realtime_start': '2022-01-07', 'realtime_end': '2022-01-07', 'date': '2000-07-01', 'value': '3.4'}, {'realtime_start': '2022-01-07', 'realtime_end': '2022-01-07', 'date': '2000-10-01', 'value': '3.3'}, {'realtime_start': '2022-01-07', 'realtime_end': '2022-01-07', 'date': '2001-01-01', 'value': '3.2'}, {'realtime_start': '2022-01-07', 'realtime_end': '2022-01-07', 'date': '2001-04-01', 'value': '3.1'}, {'realtime_start': '2022-01-07', 'realtime_end': '2022-01-07', 'date': '2001-07-01', 'value': '3.1'}, {'realtime_start': '2022-01-07', 'realtime_end': '2022-01-07', 'date': '2001-10-01', 'value': '2.9'}, {'realtime_start': '2022-01-07', 'realtime_end': '2022-01-07', 'date': '2002-01-01', 'value': '2.9'}, {'realtime_start': '2022-01-07', 'realtime_end': '2022-01-07', 'date': '2002-04-01', 'value': '2.8'}, {'realtime_start': '2022-01-07', 'realtime_end': '2022-01-07', 'date': '2002-07-01', 'value': '2.8'}, {'realtime_start': '2022-01-07', 'realtime_end': '2022-01-07', 'date': '2002-10-01', 'value': '2.9'}, {'realtime_start': '2022-01-07', 'realtime_end': '2022-01-07', 'date': '2003-01-01', 'value': '2.7'}, {'realtime_start': '2022-01-07', 'realtime_end': '2022-01-07', 'date': '2003-04-01', 'value': '2.5'}, {'realtime_start': '2022-01-07', 'realtime_end': '2022-01-07', 'date': '2003-07-01', 'value': '2.5'}, {'realtime_start': '2022-01-07', 'realtime_end': '2022-01-07', 'date': '2003-10-01', 'value': '2.6'}, {'realtime_start': '2022-01-07', 'realtime_end': '2022-01-07', 'date': '2004-01-01', 'value': '2.4'}, {'realtime_start': '2022-01-07', 'realtime_end': '2022-01-07', 'date': '2004-04-01', 'value': '2.5'}, {'realtime_start': '2022-01-07', 'realtime_end': '2022-01-07', 'date': '2004-07-01', 'value': '2.5'}, {'realtime_start': '2022-01-07', 'realtime_end': '2022-01-07', 'date': '2004-10-01', 'value': '2.4'}, {'realtime_start': '2022-01-07', 'realtime_end': '2022-01-07', 'date': '2005-01-01', 'value': '2.3'}, {'realtime_start': '2022-01-07', 'realtime_end': '2022-01-07', 'date': '2005-04-01', 'value': '2.3'}, {'realtime_start': '2022-01-07', 'realtime_end': '2022-01-07', 'date': '2005-07-01', 'value': '2.3'}, {'realtime_start': '2022-01-07', 'realtime_end': '2022-01-07', 'date': '2005-10-01', 'value': '2.3'}, {'realtime_start': '2022-01-07', 'realtime_end': '2022-01-07', 'date': '2006-01-01', 'value': '2.3'}, {'realtime_start': '2022-01-07', 'realtime_end': '2022-01-07', 'date': '2006-04-01', 'value': '2.2'}, {'realtime_start': '2022-01-07', 'realtime_end': '2022-01-07', 'date': '2006-07-01', 'value': '2.2'}, {'realtime_start': '2022-01-07', 'realtime_end': '2022-01-07', 'date': '2006-10-01', 'value': '2.2'}, {'realtime_start': '2022-01-07', 'realtime_end': '2022-01-07', 'date': '2007-01-01', 'value': '2.2'}, {'realtime_start': '2022-01-07', 'realtime_end': '2022-01-07', 'date': '2007-04-01', 'value': '2.1'}, {'realtime_start': '2022-01-07', 'realtime_end': '2022-01-07', 'date': '2007-07-01', 'value': '1.9'}, {'realtime_start': '2022-01-07', 'realtime_end': '2022-01-07', 'date': '2007-10-01', 'value': '1.7'}, {'realtime_start': '2022-01-07', 'realtime_end': '2022-01-07', 'date': '2008-01-01', 'value': '1.6'}, {'realtime_start': '2022-01-07', 'realtime_end': '2022-01-07', 'date': '2008-04-01', 'value': '1.5'}, {'realtime_start': '2022-01-07', 'realtime_end': '2022-01-07', 'date': '2008-07-01', 'value': '1.1'}, {'realtime_start': '2022-01-07', 'realtime_end': '2022-01-07', 'date': '2008-10-01', 'value': '1.1'}, {'realtime_start': '2022-01-07', 'realtime_end': '2022-01-07', 'date': '2009-01-01', 'value': '1.2'}, {'realtime_start': '2022-01-07', 'realtime_end': '2022-01-07', 'date': '2009-04-01', 'value': '1.0'}, {'realtime_start': '2022-01-07', 'realtime_end': '2022-01-07', 'date': '2009-07-01', 'value': '0.7'}, {'realtime_start': '2022-01-07', 'realtime_end': '2022-01-07', 'date': '2009-10-01', 'value': '0.7'}, {'realtime_start': '2022-01-07', 'realtime_end': '2022-01-07', 'date': '2010-01-01', 'value': '0.6'}, {'realtime_start': '2022-01-07', 'realtime_end': '2022-01-07', 'date': '2010-04-01', 'value': '0.4'}, {'realtime_start': '2022-01-07', 'realtime_end': '2022-01-07', 'date': '2010-07-01', 'value': '0.5'}, {'realtime_start': '2022-01-07', 'realtime_end': '2022-01-07', 'date': '2010-10-01', 'value': '0.5'}, {'realtime_start': '2022-01-07', 'realtime_end': '2022-01-07', 'date': '2011-01-01', 'value': '0.4'}, {'realtime_start': '2022-01-07', 'realtime_end': '2022-01-07', 'date': '2011-04-01', 'value': '0.3'}, {'realtime_start': '2022-01-07', 'realtime_end': '2022-01-07', 'date': '2011-07-01', 'value': '0.4'}, {'realtime_start': '2022-01-07', 'realtime_end': '2022-01-07', 'date': '2011-10-01', 'value': '0.6'}, {'realtime_start': '2022-01-07', 'realtime_end': '2022-01-07', 'date': '2012-01-01', 'value': '0.6'}, {'realtime_start': '2022-01-07', 'realtime_end': '2022-01-07', 'date': '2012-04-01', 'value': '0.6'}, {'realtime_start': '2022-01-07', 'realtime_end': '2022-01-07', 'date': '2012-07-01', 'value': '0.7'}, {'realtime_start': '2022-01-07', 'realtime_end': '2022-01-07', 'date': '2012-10-01', 'value': '0.8'}, {'realtime_start': '2022-01-07', 'realtime_end': '2022-01-07', 'date': '2013-01-01', 'value': '0.7'}, {'realtime_start': '2022-01-07', 'realtime_end': '2022-01-07', 'date': '2013-04-01', 'value': '0.8'}, {'realtime_start': '2022-01-07', 'realtime_end': '2022-01-07', 'date': '2013-07-01', 'value': '0.9'}, {'realtime_start': '2022-01-07', 'realtime_end': '2022-01-07', 'date': '2013-10-01', 'value': '0.8'}, {'realtime_start': '2022-01-07', 'realtime_end': '2022-01-07', 'date': '2014-01-01', 'value': '0.8'}, {'realtime_start': '2022-01-07', 'realtime_end': '2022-01-07', 'date': '2014-04-01', 'value': '0.9'}, {'realtime_start': '2022-01-07', 'realtime_end': '2022-01-07', 'date': '2014-07-01', 'value': '1.0'}, {'realtime_start': '2022-01-07', 'realtime_end': '2022-01-07', 'date': '2014-10-01', 'value': '1.0'}, {'realtime_start': '2022-01-07', 'realtime_end': '2022-01-07', 'date': '2015-01-01', 'value': '1.0'}, {'realtime_start': '2022-01-07', 'realtime_end': '2022-01-07', 'date': '2015-04-01', 'value': '1.0'}, {'realtime_start': '2022-01-07', 'realtime_end': '2022-01-07', 'date': '2015-07-01', 'value': '1.0'}, {'realtime_start': '2022-01-07', 'realtime_end': '2022-01-07', 'date': '2015-10-01', 'value': '1.1'}, {'realtime_start': '2022-01-07', 'realtime_end': '2022-01-07', 'date': '2016-01-01', 'value': '1.2'}, {'realtime_start': '2022-01-07', 'realtime_end': '2022-01-07', 'date': '2016-04-01', 'value': '1.1'}, {'realtime_start': '2022-01-07', 'realtime_end': '2022-01-07', 'date': '2016-07-01', 'value': '1.2'}, {'realtime_start': '2022-01-07', 'realtime_end': '2022-01-07', 'date': '2016-10-01', 'value': '1.3'}, {'realtime_start': '2022-01-07', 'realtime_end': '2022-01-07', 'date': '2017-01-01', 'value': '1.3'}, {'realtime_start': '2022-01-07', 'realtime_end': '2022-01-07', 'date': '2017-04-01', 'value': '1.4'}, {'realtime_start': '2022-01-07', 'realtime_end': '2022-01-07', 'date': '2017-07-01', 'value': '1.4'}, {'realtime_start': '2022-01-07', 'realtime_end': '2022-01-07', 'date': '2017-10-01', 'value': '1.4'}, {'realtime_start': '2022-01-07', 'realtime_end': '2022-01-07', 'date': '2018-01-01', 'value': '1.5'}, {'realtime_start': '2022-01-07', 'realtime_end': '2022-01-07', 'date': '2018-04-01', 'value': '1.6'}, {'realtime_start': '2022-01-07', 'realtime_end': '2022-01-07', 'date': '2018-07-01', 'value': '1.6'}, {'realtime_start': '2022-01-07', 'realtime_end': '2022-01-07', 'date': '2018-10-01', 'value': '1.6'}, {'realtime_start': '2022-01-07', 'realtime_end': '2022-01-07', 'date': '2019-01-01', 'value': '1.6'}, {'realtime_start': '2022-01-07', 'realtime_end': '2022-01-07', 'date': '2019-04-01', 'value': '1.6'}, {'realtime_start': '2022-01-07', 'realtime_end': '2022-01-07', 'date': '2019-07-01', 'value': '1.7'}, {'realtime_start': '2022-01-07', 'realtime_end': '2022-01-07', 'date': '2019-10-01', 'value': '1.8'}, {'realtime_start': '2022-01-07', 'realtime_end': '2022-01-07', 'date': '2020-01-01', 'value': '1.8'}, {'realtime_start': '2022-01-07', 'realtime_end': '2022-01-07', 'date': '2020-04-01', 'value': '1.8'}, {'realtime_start': '2022-01-07', 'realtime_end': '2022-01-07', 'date': '2020-07-01', 'value': '1.8'}, {'realtime_start': '2022-01-07', 'realtime_end': '2022-01-07', 'date': '2020-10-01', 'value': '1.8'}, {'realtime_start': '2022-01-07', 'realtime_end': '2022-01-07', 'date': '2021-01-01', 'value': '1.9'}, {'realtime_start': '2022-01-07', 'realtime_end': '2022-01-07', 'date': '2021-04-01', 'value': '2.2'}, {'realtime_start': '2022-01-07', 'realtime_end': '2022-01-07', 'date': '2021-07-01', 'value': '2.5'}]}\n",
            "data-Fred-WFRBSB50215.json\n"
          ]
        },
        {
          "output_type": "display_data",
          "data": {
            "application/javascript": [
              "\n",
              "    async function download(id, filename, size) {\n",
              "      if (!google.colab.kernel.accessAllowed) {\n",
              "        return;\n",
              "      }\n",
              "      const div = document.createElement('div');\n",
              "      const label = document.createElement('label');\n",
              "      label.textContent = `Downloading \"${filename}\": `;\n",
              "      div.appendChild(label);\n",
              "      const progress = document.createElement('progress');\n",
              "      progress.max = size;\n",
              "      div.appendChild(progress);\n",
              "      document.body.appendChild(div);\n",
              "\n",
              "      const buffers = [];\n",
              "      let downloaded = 0;\n",
              "\n",
              "      const channel = await google.colab.kernel.comms.open(id);\n",
              "      // Send a message to notify the kernel that we're ready.\n",
              "      channel.send({})\n",
              "\n",
              "      for await (const message of channel.messages) {\n",
              "        // Send a message to notify the kernel that we're ready.\n",
              "        channel.send({})\n",
              "        if (message.buffers) {\n",
              "          for (const buffer of message.buffers) {\n",
              "            buffers.push(buffer);\n",
              "            downloaded += buffer.byteLength;\n",
              "            progress.value = downloaded;\n",
              "          }\n",
              "        }\n",
              "      }\n",
              "      const blob = new Blob(buffers, {type: 'application/binary'});\n",
              "      const a = document.createElement('a');\n",
              "      a.href = window.URL.createObjectURL(blob);\n",
              "      a.download = filename;\n",
              "      div.appendChild(a);\n",
              "      a.click();\n",
              "      div.remove();\n",
              "    }\n",
              "  "
            ],
            "text/plain": [
              "<IPython.core.display.Javascript object>"
            ]
          },
          "metadata": {}
        },
        {
          "output_type": "display_data",
          "data": {
            "application/javascript": [
              "download(\"download_2ced5ff9-2030-444d-9a89-5c2c63cd0ac5\", \"data-Fred-WFRBSB50215.json\", 22032)"
            ],
            "text/plain": [
              "<IPython.core.display.Javascript object>"
            ]
          },
          "metadata": {}
        }
      ]
    }
  ]
}
