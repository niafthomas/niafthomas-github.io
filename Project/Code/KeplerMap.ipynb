{
  "nbformat": 4,
  "nbformat_minor": 0,
  "metadata": {
    "colab": {
      "name": "KeplerMap.ipynb",
      "provenance": [],
      "authorship_tag": "ABX9TyOi+jVsUQq0EQO13Licydwn",
      "include_colab_link": true
    },
    "kernelspec": {
      "name": "python3",
      "display_name": "Python 3"
    },
    "language_info": {
      "name": "python"
    }
  },
  "cells": [
    {
      "cell_type": "markdown",
      "metadata": {
        "id": "view-in-github",
        "colab_type": "text"
      },
      "source": [
        "<a href=\"https://colab.research.google.com/github/niafthomas/niafthomas.github.io/blob/main/KeplerMap.ipynb\" target=\"_parent\"><img src=\"https://colab.research.google.com/assets/colab-badge.svg\" alt=\"Open In Colab\"/></a>"
      ]
    },
    {
      "cell_type": "code",
      "execution_count": 1,
      "metadata": {
        "id": "gw0zixDitgPu"
      },
      "outputs": [],
      "source": [
        "import requests, json, pandas as pd"
      ]
    },
    {
      "cell_type": "code",
      "source": [
        "import numpy as np"
      ],
      "metadata": {
        "id": "i6Gk01lHtrMN"
      },
      "execution_count": 2,
      "outputs": []
    },
    {
      "cell_type": "code",
      "source": [
        "topo=requests.get('https://raw.githubusercontent.com/deldersveld/topojson/master/world-countries.json').json()"
      ],
      "metadata": {
        "id": "MFSWEqD_ttF_"
      },
      "execution_count": 3,
      "outputs": []
    },
    {
      "cell_type": "code",
      "source": [
        "for i in topo['objects']['countries1']['geometries']:\n",
        "  print(i['properties']['name'])"
      ],
      "metadata": {
        "colab": {
          "base_uri": "https://localhost:8080/"
        },
        "id": "O058ZyWKtwEr",
        "outputId": "e0b5b468-f91a-4cf1-8d7d-8286d5051e1f"
      },
      "execution_count": 4,
      "outputs": [
        {
          "output_type": "stream",
          "name": "stdout",
          "text": [
            "Afghanistan\n",
            "Angola\n",
            "Albania\n",
            "United Arab Emirates\n",
            "Argentina\n",
            "Armenia\n",
            "Antarctica\n",
            "French Southern and Antarctic Lands\n",
            "Australia\n",
            "Austria\n",
            "Azerbaijan\n",
            "Burundi\n",
            "Belgium\n",
            "Benin\n",
            "Burkina Faso\n",
            "Bangladesh\n",
            "Bulgaria\n",
            "The Bahamas\n",
            "Bosnia and Herzegovina\n",
            "Belarus\n",
            "Belize\n",
            "Bermuda\n",
            "Bolivia\n",
            "Brazil\n",
            "Brunei\n",
            "Bhutan\n",
            "Botswana\n",
            "Central African Republic\n",
            "Canada\n",
            "Switzerland\n",
            "Chile\n",
            "China\n",
            "Ivory Coast\n",
            "Cameroon\n",
            "Democratic Republic of the Congo\n",
            "Republic of the Congo\n",
            "Colombia\n",
            "Costa Rica\n",
            "Cuba\n",
            "Northern Cyprus\n",
            "Cyprus\n",
            "Czech Republic\n",
            "Germany\n",
            "Djibouti\n",
            "Denmark\n",
            "Dominican Republic\n",
            "Algeria\n",
            "Ecuador\n",
            "Egypt\n",
            "Eritrea\n",
            "Spain\n",
            "Estonia\n",
            "Ethiopia\n",
            "Finland\n",
            "Fiji\n",
            "Falkland Islands\n",
            "France\n",
            "Gabon\n",
            "United Kingdom\n",
            "Georgia\n",
            "Ghana\n",
            "Guinea\n",
            "Gambia\n",
            "Guinea Bissau\n",
            "Equatorial Guinea\n",
            "Greece\n",
            "Greenland\n",
            "Guatemala\n",
            "French Guiana\n",
            "Guyana\n",
            "Honduras\n",
            "Croatia\n",
            "Haiti\n",
            "Hungary\n",
            "Indonesia\n",
            "India\n",
            "Ireland\n",
            "Iran\n",
            "Iraq\n",
            "Iceland\n",
            "Israel\n",
            "Italy\n",
            "Jamaica\n",
            "Jordan\n",
            "Japan\n",
            "Kazakhstan\n",
            "Kenya\n",
            "Kyrgyzstan\n",
            "Cambodia\n",
            "South Korea\n",
            "Kosovo\n",
            "Kuwait\n",
            "Laos\n",
            "Lebanon\n",
            "Liberia\n",
            "Libya\n",
            "Sri Lanka\n",
            "Lesotho\n",
            "Lithuania\n",
            "Luxembourg\n",
            "Latvia\n",
            "Morocco\n",
            "Moldova\n",
            "Madagascar\n",
            "Mexico\n",
            "Macedonia\n",
            "Mali\n",
            "Malta\n",
            "Myanmar\n",
            "Montenegro\n",
            "Mongolia\n",
            "Mozambique\n",
            "Mauritania\n",
            "Malawi\n",
            "Malaysia\n",
            "Namibia\n",
            "New Caledonia\n",
            "Niger\n",
            "Nigeria\n",
            "Nicaragua\n",
            "Netherlands\n",
            "Norway\n",
            "Nepal\n",
            "New Zealand\n",
            "Oman\n",
            "Pakistan\n",
            "Panama\n",
            "Peru\n",
            "Philippines\n",
            "Papua New Guinea\n",
            "Poland\n",
            "Puerto Rico\n",
            "North Korea\n",
            "Portugal\n",
            "Paraguay\n",
            "Qatar\n",
            "Romania\n",
            "Russia\n",
            "Rwanda\n",
            "Western Sahara\n",
            "Saudi Arabia\n",
            "Sudan\n",
            "South Sudan\n",
            "Senegal\n",
            "Solomon Islands\n",
            "Sierra Leone\n",
            "El Salvador\n",
            "Somaliland\n",
            "Somalia\n",
            "Republic of Serbia\n",
            "Suriname\n",
            "Slovakia\n",
            "Slovenia\n",
            "Sweden\n",
            "Swaziland\n",
            "Syria\n",
            "Chad\n",
            "Togo\n",
            "Thailand\n",
            "Tajikistan\n",
            "Turkmenistan\n",
            "East Timor\n",
            "Trinidad and Tobago\n",
            "Tunisia\n",
            "Turkey\n",
            "Taiwan\n",
            "United Republic of Tanzania\n",
            "Uganda\n",
            "Ukraine\n",
            "Uruguay\n",
            "United States of America\n",
            "Uzbekistan\n",
            "Venezuela\n",
            "Vietnam\n",
            "Vanuatu\n",
            "West Bank\n",
            "Yemen\n",
            "South Africa\n",
            "Zambia\n",
            "Zimbabwe\n"
          ]
        }
      ]
    },
    {
      "cell_type": "markdown",
      "source": [
        "Bringing in the Social Mobility and Gini Coefficient data from World Economic Forum and World Bank to match it to the country names."
      ],
      "metadata": {
        "id": "yKSW6BrjtzoZ"
      }
    },
    {
      "cell_type": "code",
      "source": [
        "import pandas as pd"
      ],
      "metadata": {
        "id": "iOooNmEOt4LJ"
      },
      "execution_count": 5,
      "outputs": []
    },
    {
      "cell_type": "code",
      "source": [
        "data=pd.read_csv('https://raw.githubusercontent.com/niafthomas/niafthomas.github.io/main/sm_gini.csv').set_index('Country')"
      ],
      "metadata": {
        "id": "h9bHTo39t7JM"
      },
      "execution_count": 6,
      "outputs": []
    },
    {
      "cell_type": "markdown",
      "source": [
        "We extend the topojson properties - in your final product, you need to rename countries until you have a perfect match."
      ],
      "metadata": {
        "id": "n0AQS-mAuIpg"
      }
    },
    {
      "cell_type": "code",
      "source": [
        "for i in topo['objects']['countries1']['geometries']:\n",
        "  country=i['properties']['name']\n",
        "  if country in data.index:\n",
        "    print(country,'found! Extending data..')\n",
        "    i['properties']['Scoial Mobility Score']=data.loc[country]['Index Score']\n",
        "    i['properties']['Gini Coefficient']=data.loc[country]['Gini']"
      ],
      "metadata": {
        "colab": {
          "base_uri": "https://localhost:8080/"
        },
        "id": "lADnFmQRuJjx",
        "outputId": "4c63cf4c-88fe-42ab-b5a7-9604b8584161"
      },
      "execution_count": 7,
      "outputs": [
        {
          "output_type": "stream",
          "name": "stdout",
          "text": [
            "Albania found! Extending data..\n",
            "Argentina found! Extending data..\n",
            "Armenia found! Extending data..\n",
            "Australia found! Extending data..\n",
            "Austria found! Extending data..\n",
            "Belgium found! Extending data..\n",
            "Bangladesh found! Extending data..\n",
            "Bulgaria found! Extending data..\n",
            "Brazil found! Extending data..\n",
            "Canada found! Extending data..\n",
            "Switzerland found! Extending data..\n",
            "Chile found! Extending data..\n",
            "China found! Extending data..\n",
            "Ivory Coast found! Extending data..\n",
            "Cameroon found! Extending data..\n",
            "Colombia found! Extending data..\n",
            "Costa Rica found! Extending data..\n",
            "Cyprus found! Extending data..\n",
            "Czech Republic found! Extending data..\n",
            "Germany found! Extending data..\n",
            "Denmark found! Extending data..\n",
            "Ecuador found! Extending data..\n",
            "Egypt found! Extending data..\n",
            "Spain found! Extending data..\n",
            "Estonia found! Extending data..\n",
            "Finland found! Extending data..\n",
            "France found! Extending data..\n",
            "United Kingdom found! Extending data..\n",
            "Georgia found! Extending data..\n",
            "Ghana found! Extending data..\n",
            "Greece found! Extending data..\n",
            "Guatemala found! Extending data..\n",
            "Honduras found! Extending data..\n",
            "Croatia found! Extending data..\n",
            "Hungary found! Extending data..\n",
            "Indonesia found! Extending data..\n",
            "India found! Extending data..\n",
            "Ireland found! Extending data..\n",
            "Iceland found! Extending data..\n",
            "Israel found! Extending data..\n",
            "Italy found! Extending data..\n",
            "Japan found! Extending data..\n",
            "Kazakhstan found! Extending data..\n",
            "South Korea found! Extending data..\n",
            "Laos found! Extending data..\n",
            "Sri Lanka found! Extending data..\n",
            "Lithuania found! Extending data..\n",
            "Luxembourg found! Extending data..\n",
            "Latvia found! Extending data..\n",
            "Morocco found! Extending data..\n",
            "Moldova found! Extending data..\n",
            "Mexico found! Extending data..\n",
            "Malta found! Extending data..\n",
            "Malaysia found! Extending data..\n",
            "Netherlands found! Extending data..\n",
            "Norway found! Extending data..\n",
            "Pakistan found! Extending data..\n",
            "Panama found! Extending data..\n",
            "Peru found! Extending data..\n",
            "Philippines found! Extending data..\n",
            "Poland found! Extending data..\n",
            "Portugal found! Extending data..\n",
            "Paraguay found! Extending data..\n",
            "Romania found! Extending data..\n",
            "Russia found! Extending data..\n",
            "Senegal found! Extending data..\n",
            "El Salvador found! Extending data..\n",
            "Slovakia found! Extending data..\n",
            "Slovenia found! Extending data..\n",
            "Sweden found! Extending data..\n",
            "Thailand found! Extending data..\n",
            "Tunisia found! Extending data..\n",
            "Turkey found! Extending data..\n",
            "Ukraine found! Extending data..\n",
            "Uruguay found! Extending data..\n",
            "Vietnam found! Extending data..\n",
            "South Africa found! Extending data..\n"
          ]
        }
      ]
    },
    {
      "cell_type": "code",
      "source": [
        "topo['objects']['countries1']['geometries'][3]['properties']"
      ],
      "metadata": {
        "colab": {
          "base_uri": "https://localhost:8080/"
        },
        "id": "PEoZoxTuupOK",
        "outputId": "59923265-be33-49d6-af8a-cf21e8fb3a90"
      },
      "execution_count": 8,
      "outputs": [
        {
          "output_type": "execute_result",
          "data": {
            "text/plain": [
              "{'Alpha-2': 'AE', 'name': 'United Arab Emirates'}"
            ]
          },
          "metadata": {},
          "execution_count": 8
        }
      ]
    },
    {
      "cell_type": "code",
      "source": [
        "import json\n",
        "open('topojson_export.json','w').write(json.dumps(topo))"
      ],
      "metadata": {
        "colab": {
          "base_uri": "https://localhost:8080/"
        },
        "id": "oMwJx8mZusQ2",
        "outputId": "efb081e2-3d10-44fd-8063-1c4af97b166a"
      },
      "execution_count": 9,
      "outputs": [
        {
          "output_type": "execute_result",
          "data": {
            "text/plain": [
              "141029"
            ]
          },
          "metadata": {},
          "execution_count": 9
        }
      ]
    }
  ]
}